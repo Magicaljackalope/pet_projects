{
 "cells": [
  {
   "cell_type": "code",
   "execution_count": 1,
   "id": "c4d16927",
   "metadata": {},
   "outputs": [],
   "source": [
    "import pandas as pd\n",
    "import numpy as np\n",
    "import nltk\n",
    "import pickle\n",
    "import re\n",
    "import pymorphy2\n",
    "from numpy import hstack\n",
    "from sklearn import datasets\n",
    "from sklearn.model_selection import train_test_split\n",
    "from sklearn.feature_extraction.text import CountVectorizer\n",
    "from sklearn.naive_bayes import MultinomialNB\n",
    "from sklearn.ensemble import RandomForestClassifier\n",
    "from sklearn.metrics import classification_report\n",
    "pd.set_option('display.max_colwidth', None)\n",
    "pd.set_option('display.max_rows', None)"
   ]
  },
  {
   "cell_type": "markdown",
   "id": "f9451fa0",
   "metadata": {},
   "source": [
    "Смотрим на данные"
   ]
  },
  {
   "cell_type": "code",
   "execution_count": 2,
   "id": "6e6dd015",
   "metadata": {},
   "outputs": [
    {
     "data": {
      "text/html": [
       "<div>\n",
       "<style scoped>\n",
       "    .dataframe tbody tr th:only-of-type {\n",
       "        vertical-align: middle;\n",
       "    }\n",
       "\n",
       "    .dataframe tbody tr th {\n",
       "        vertical-align: top;\n",
       "    }\n",
       "\n",
       "    .dataframe thead th {\n",
       "        text-align: right;\n",
       "    }\n",
       "</style>\n",
       "<table border=\"1\" class=\"dataframe\">\n",
       "  <thead>\n",
       "    <tr style=\"text-align: right;\">\n",
       "      <th></th>\n",
       "      <th>id</th>\n",
       "      <th>title</th>\n",
       "      <th>parent_id</th>\n",
       "    </tr>\n",
       "  </thead>\n",
       "  <tbody>\n",
       "    <tr>\n",
       "      <th>0</th>\n",
       "      <td>1</td>\n",
       "      <td>Все категории</td>\n",
       "      <td>0</td>\n",
       "    </tr>\n",
       "    <tr>\n",
       "      <th>1</th>\n",
       "      <td>114</td>\n",
       "      <td>Урбеч</td>\n",
       "      <td>1913</td>\n",
       "    </tr>\n",
       "    <tr>\n",
       "      <th>2</th>\n",
       "      <td>115</td>\n",
       "      <td>Варенье и джемы</td>\n",
       "      <td>328</td>\n",
       "    </tr>\n",
       "    <tr>\n",
       "      <th>3</th>\n",
       "      <td>128</td>\n",
       "      <td>Сухие завтраки</td>\n",
       "      <td>2475</td>\n",
       "    </tr>\n",
       "    <tr>\n",
       "      <th>4</th>\n",
       "      <td>131</td>\n",
       "      <td>Масла</td>\n",
       "      <td>2475</td>\n",
       "    </tr>\n",
       "    <tr>\n",
       "      <th>5</th>\n",
       "      <td>132</td>\n",
       "      <td>Супы</td>\n",
       "      <td>2475</td>\n",
       "    </tr>\n",
       "    <tr>\n",
       "      <th>6</th>\n",
       "      <td>133</td>\n",
       "      <td>Соусы</td>\n",
       "      <td>2475</td>\n",
       "    </tr>\n",
       "    <tr>\n",
       "      <th>7</th>\n",
       "      <td>134</td>\n",
       "      <td>Приправы</td>\n",
       "      <td>14283</td>\n",
       "    </tr>\n",
       "    <tr>\n",
       "      <th>8</th>\n",
       "      <td>135</td>\n",
       "      <td>Сахар, соль</td>\n",
       "      <td>2475</td>\n",
       "    </tr>\n",
       "    <tr>\n",
       "      <th>9</th>\n",
       "      <td>136</td>\n",
       "      <td>Мука</td>\n",
       "      <td>2475</td>\n",
       "    </tr>\n",
       "  </tbody>\n",
       "</table>\n",
       "</div>"
      ],
      "text/plain": [
       "    id            title  parent_id\n",
       "0    1    Все категории          0\n",
       "1  114            Урбеч       1913\n",
       "2  115  Варенье и джемы        328\n",
       "3  128   Сухие завтраки       2475\n",
       "4  131            Масла       2475\n",
       "5  132             Супы       2475\n",
       "6  133            Соусы       2475\n",
       "7  134         Приправы      14283\n",
       "8  135      Сахар, соль       2475\n",
       "9  136             Мука       2475"
      ]
     },
     "execution_count": 2,
     "metadata": {},
     "output_type": "execute_result"
    }
   ],
   "source": [
    "ctree=pd.read_csv('categories_tree.csv')\n",
    "ctree.head(10)"
   ]
  },
  {
   "cell_type": "code",
   "execution_count": 3,
   "id": "53e7fc30",
   "metadata": {},
   "outputs": [
    {
     "data": {
      "text/html": [
       "<div>\n",
       "<style scoped>\n",
       "    .dataframe tbody tr th:only-of-type {\n",
       "        vertical-align: middle;\n",
       "    }\n",
       "\n",
       "    .dataframe tbody tr th {\n",
       "        vertical-align: top;\n",
       "    }\n",
       "\n",
       "    .dataframe thead th {\n",
       "        text-align: right;\n",
       "    }\n",
       "</style>\n",
       "<table border=\"1\" class=\"dataframe\">\n",
       "  <thead>\n",
       "    <tr style=\"text-align: right;\">\n",
       "      <th></th>\n",
       "      <th>id</th>\n",
       "      <th>title</th>\n",
       "      <th>short_description</th>\n",
       "      <th>name_value_characteristics</th>\n",
       "      <th>rating</th>\n",
       "      <th>feedback_quantity</th>\n",
       "      <th>category_id</th>\n",
       "    </tr>\n",
       "  </thead>\n",
       "  <tbody>\n",
       "    <tr>\n",
       "      <th>0</th>\n",
       "      <td>1267423</td>\n",
       "      <td>Muhle Manikure Песочные колпачки для педикюра 1015 PW Средний (150 грит) (упаковка 10 шт)</td>\n",
       "      <td>Muhle Manikure Колпачок песочный шлифовальный для педикюра 1015 PW Белый Средний (150 грит) (упаковка 10 шт)</td>\n",
       "      <td>None</td>\n",
       "      <td>0.000000</td>\n",
       "      <td>0</td>\n",
       "      <td>2693</td>\n",
       "    </tr>\n",
       "    <tr>\n",
       "      <th>1</th>\n",
       "      <td>128833</td>\n",
       "      <td>Sony Xperia L1 Защитное стекло 2,5D</td>\n",
       "      <td>None</td>\n",
       "      <td>None</td>\n",
       "      <td>4.666667</td>\n",
       "      <td>9</td>\n",
       "      <td>13408</td>\n",
       "    </tr>\n",
       "    <tr>\n",
       "      <th>2</th>\n",
       "      <td>569924</td>\n",
       "      <td>Конверт для денег Прекрасная роза, 16,5 х 8 см</td>\n",
       "      <td>Конверт для денег «Прекрасная роза», 16,5 × 8 см</td>\n",
       "      <td>None</td>\n",
       "      <td>5.000000</td>\n",
       "      <td>6</td>\n",
       "      <td>11790</td>\n",
       "    </tr>\n",
       "    <tr>\n",
       "      <th>3</th>\n",
       "      <td>1264824</td>\n",
       "      <td>Серьги</td>\n",
       "      <td>None</td>\n",
       "      <td>None</td>\n",
       "      <td>0.000000</td>\n",
       "      <td>0</td>\n",
       "      <td>14076</td>\n",
       "    </tr>\n",
       "    <tr>\n",
       "      <th>4</th>\n",
       "      <td>1339052</td>\n",
       "      <td>Наклейки на унитаз для туалета на крышку бачок на дверь ванную на стену мебель зеркало</td>\n",
       "      <td>Водостойкая, интересная наклейка на унитаз размер 17х22 см</td>\n",
       "      <td>None</td>\n",
       "      <td>0.000000</td>\n",
       "      <td>0</td>\n",
       "      <td>12401</td>\n",
       "    </tr>\n",
       "  </tbody>\n",
       "</table>\n",
       "</div>"
      ],
      "text/plain": [
       "        id  \\\n",
       "0  1267423   \n",
       "1   128833   \n",
       "2   569924   \n",
       "3  1264824   \n",
       "4  1339052   \n",
       "\n",
       "                                                                                       title  \\\n",
       "0  Muhle Manikure Песочные колпачки для педикюра 1015 PW Средний (150 грит) (упаковка 10 шт)   \n",
       "1                                                        Sony Xperia L1 Защитное стекло 2,5D   \n",
       "2                                             Конверт для денег Прекрасная роза, 16,5 х 8 см   \n",
       "3                                                                                     Серьги   \n",
       "4     Наклейки на унитаз для туалета на крышку бачок на дверь ванную на стену мебель зеркало   \n",
       "\n",
       "                                                                                              short_description  \\\n",
       "0  Muhle Manikure Колпачок песочный шлифовальный для педикюра 1015 PW Белый Средний (150 грит) (упаковка 10 шт)   \n",
       "1                                                                                                          None   \n",
       "2                                                              Конверт для денег «Прекрасная роза», 16,5 × 8 см   \n",
       "3                                                                                                          None   \n",
       "4                                                    Водостойкая, интересная наклейка на унитаз размер 17х22 см   \n",
       "\n",
       "  name_value_characteristics    rating  feedback_quantity  category_id  \n",
       "0                       None  0.000000                  0         2693  \n",
       "1                       None  4.666667                  9        13408  \n",
       "2                       None  5.000000                  6        11790  \n",
       "3                       None  0.000000                  0        14076  \n",
       "4                       None  0.000000                  0        12401  "
      ]
     },
     "execution_count": 3,
     "metadata": {},
     "output_type": "execute_result"
    }
   ],
   "source": [
    "df=pd.read_parquet('train.parquet', engine='pyarrow')\n",
    "df.head()"
   ]
  },
  {
   "cell_type": "code",
   "execution_count": 4,
   "id": "6389dad3",
   "metadata": {},
   "outputs": [
    {
     "data": {
      "text/html": [
       "<div>\n",
       "<style scoped>\n",
       "    .dataframe tbody tr th:only-of-type {\n",
       "        vertical-align: middle;\n",
       "    }\n",
       "\n",
       "    .dataframe tbody tr th {\n",
       "        vertical-align: top;\n",
       "    }\n",
       "\n",
       "    .dataframe thead th {\n",
       "        text-align: right;\n",
       "    }\n",
       "</style>\n",
       "<table border=\"1\" class=\"dataframe\">\n",
       "  <thead>\n",
       "    <tr style=\"text-align: right;\">\n",
       "      <th></th>\n",
       "      <th>id</th>\n",
       "      <th>title</th>\n",
       "      <th>short_description</th>\n",
       "      <th>name_value_characteristics</th>\n",
       "      <th>rating</th>\n",
       "      <th>feedback_quantity</th>\n",
       "    </tr>\n",
       "  </thead>\n",
       "  <tbody>\n",
       "    <tr>\n",
       "      <th>0</th>\n",
       "      <td>1070974</td>\n",
       "      <td>Браслет из натуральных камней LOTUS</td>\n",
       "      <td>None</td>\n",
       "      <td>None</td>\n",
       "      <td>0.000000</td>\n",
       "      <td>0</td>\n",
       "    </tr>\n",
       "    <tr>\n",
       "      <th>1</th>\n",
       "      <td>450413</td>\n",
       "      <td>Fusion Life - Шампунь для сухих и окрашенных волос Личи 460 мл</td>\n",
       "      <td>None</td>\n",
       "      <td>None</td>\n",
       "      <td>4.333333</td>\n",
       "      <td>6</td>\n",
       "    </tr>\n",
       "    <tr>\n",
       "      <th>2</th>\n",
       "      <td>126857</td>\n",
       "      <td>Микрофон для ПК jack 3,5мм всенаправленный</td>\n",
       "      <td>универсальный 3,5 мм микрофон запишет ваш звук</td>\n",
       "      <td>None</td>\n",
       "      <td>3.708333</td>\n",
       "      <td>24</td>\n",
       "    </tr>\n",
       "    <tr>\n",
       "      <th>3</th>\n",
       "      <td>1577569</td>\n",
       "      <td>Серьги гвоздики сердце</td>\n",
       "      <td>Серьги гвоздики сердце</td>\n",
       "      <td>None</td>\n",
       "      <td>0.000000</td>\n",
       "      <td>0</td>\n",
       "    </tr>\n",
       "    <tr>\n",
       "      <th>4</th>\n",
       "      <td>869328</td>\n",
       "      <td>Чёрно-красная стильная брошь \"Тюльпаны\" из акрила, брошь-булавка ручной работы</td>\n",
       "      <td>Стильная и яркая брошь ручной работы! Великолепный подарок для вас и ваших близких!</td>\n",
       "      <td>None</td>\n",
       "      <td>0.000000</td>\n",
       "      <td>0</td>\n",
       "    </tr>\n",
       "  </tbody>\n",
       "</table>\n",
       "</div>"
      ],
      "text/plain": [
       "        id  \\\n",
       "0  1070974   \n",
       "1   450413   \n",
       "2   126857   \n",
       "3  1577569   \n",
       "4   869328   \n",
       "\n",
       "                                                                            title  \\\n",
       "0                                             Браслет из натуральных камней LOTUS   \n",
       "1                  Fusion Life - Шампунь для сухих и окрашенных волос Личи 460 мл   \n",
       "2                                      Микрофон для ПК jack 3,5мм всенаправленный   \n",
       "3                                                          Серьги гвоздики сердце   \n",
       "4  Чёрно-красная стильная брошь \"Тюльпаны\" из акрила, брошь-булавка ручной работы   \n",
       "\n",
       "                                                                     short_description  \\\n",
       "0                                                                                 None   \n",
       "1                                                                                 None   \n",
       "2                                       универсальный 3,5 мм микрофон запишет ваш звук   \n",
       "3                                                               Серьги гвоздики сердце   \n",
       "4  Стильная и яркая брошь ручной работы! Великолепный подарок для вас и ваших близких!   \n",
       "\n",
       "  name_value_characteristics    rating  feedback_quantity  \n",
       "0                       None  0.000000                  0  \n",
       "1                       None  4.333333                  6  \n",
       "2                       None  3.708333                 24  \n",
       "3                       None  0.000000                  0  \n",
       "4                       None  0.000000                  0  "
      ]
     },
     "execution_count": 4,
     "metadata": {},
     "output_type": "execute_result"
    }
   ],
   "source": [
    "dftest=pd.read_parquet('test.parquet', engine='pyarrow')\n",
    "dftest.head()"
   ]
  },
  {
   "cell_type": "code",
   "execution_count": 18,
   "id": "7fb300ee",
   "metadata": {},
   "outputs": [
    {
     "data": {
      "text/html": [
       "<div>\n",
       "<style scoped>\n",
       "    .dataframe tbody tr th:only-of-type {\n",
       "        vertical-align: middle;\n",
       "    }\n",
       "\n",
       "    .dataframe tbody tr th {\n",
       "        vertical-align: top;\n",
       "    }\n",
       "\n",
       "    .dataframe thead th {\n",
       "        text-align: right;\n",
       "    }\n",
       "</style>\n",
       "<table border=\"1\" class=\"dataframe\">\n",
       "  <thead>\n",
       "    <tr style=\"text-align: right;\">\n",
       "      <th></th>\n",
       "      <th>id</th>\n",
       "      <th>rating</th>\n",
       "      <th>feedback_quantity</th>\n",
       "      <th>category_id</th>\n",
       "    </tr>\n",
       "  </thead>\n",
       "  <tbody>\n",
       "    <tr>\n",
       "      <th>count</th>\n",
       "      <td>2.834520e+05</td>\n",
       "      <td>283452.000000</td>\n",
       "      <td>283452.00000</td>\n",
       "      <td>283452.000000</td>\n",
       "    </tr>\n",
       "    <tr>\n",
       "      <th>mean</th>\n",
       "      <td>9.401805e+05</td>\n",
       "      <td>1.814641</td>\n",
       "      <td>4.34656</td>\n",
       "      <td>12244.567295</td>\n",
       "    </tr>\n",
       "    <tr>\n",
       "      <th>std</th>\n",
       "      <td>4.191303e+05</td>\n",
       "      <td>2.309150</td>\n",
       "      <td>34.67245</td>\n",
       "      <td>2543.823093</td>\n",
       "    </tr>\n",
       "    <tr>\n",
       "      <th>min</th>\n",
       "      <td>9.500000e+01</td>\n",
       "      <td>0.000000</td>\n",
       "      <td>-1.00000</td>\n",
       "      <td>2598.000000</td>\n",
       "    </tr>\n",
       "    <tr>\n",
       "      <th>25%</th>\n",
       "      <td>6.063808e+05</td>\n",
       "      <td>0.000000</td>\n",
       "      <td>0.00000</td>\n",
       "      <td>12049.000000</td>\n",
       "    </tr>\n",
       "    <tr>\n",
       "      <th>50%</th>\n",
       "      <td>9.963495e+05</td>\n",
       "      <td>0.000000</td>\n",
       "      <td>0.00000</td>\n",
       "      <td>12730.000000</td>\n",
       "    </tr>\n",
       "    <tr>\n",
       "      <th>75%</th>\n",
       "      <td>1.298164e+06</td>\n",
       "      <td>4.871795</td>\n",
       "      <td>2.00000</td>\n",
       "      <td>13408.000000</td>\n",
       "    </tr>\n",
       "    <tr>\n",
       "      <th>max</th>\n",
       "      <td>1.655762e+06</td>\n",
       "      <td>5.000000</td>\n",
       "      <td>6102.00000</td>\n",
       "      <td>14559.000000</td>\n",
       "    </tr>\n",
       "  </tbody>\n",
       "</table>\n",
       "</div>"
      ],
      "text/plain": [
       "                 id         rating  feedback_quantity    category_id\n",
       "count  2.834520e+05  283452.000000       283452.00000  283452.000000\n",
       "mean   9.401805e+05       1.814641            4.34656   12244.567295\n",
       "std    4.191303e+05       2.309150           34.67245    2543.823093\n",
       "min    9.500000e+01       0.000000           -1.00000    2598.000000\n",
       "25%    6.063808e+05       0.000000            0.00000   12049.000000\n",
       "50%    9.963495e+05       0.000000            0.00000   12730.000000\n",
       "75%    1.298164e+06       4.871795            2.00000   13408.000000\n",
       "max    1.655762e+06       5.000000         6102.00000   14559.000000"
      ]
     },
     "execution_count": 18,
     "metadata": {},
     "output_type": "execute_result"
    }
   ],
   "source": [
    "df.describe()"
   ]
  },
  {
   "cell_type": "code",
   "execution_count": 19,
   "id": "ead1de1f",
   "metadata": {},
   "outputs": [
    {
     "data": {
      "text/plain": [
       "1231"
      ]
     },
     "execution_count": 19,
     "metadata": {},
     "output_type": "execute_result"
    }
   ],
   "source": [
    "df.category_id.unique().size"
   ]
  },
  {
   "cell_type": "markdown",
   "id": "4cf3a5b6",
   "metadata": {},
   "source": [
    "преобразовываем данные"
   ]
  },
  {
   "cell_type": "code",
   "execution_count": 5,
   "id": "d31f993e",
   "metadata": {},
   "outputs": [],
   "source": [
    "#заменяем все нулевые значения на точки, чтобы сложить дальше столбцы со словами\n",
    "df.short_description.fillna(value='.', inplace = True)\n",
    "df.name_value_characteristics.fillna(value='.', inplace = True)"
   ]
  },
  {
   "cell_type": "code",
   "execution_count": 6,
   "id": "59440df5",
   "metadata": {},
   "outputs": [
    {
     "name": "stderr",
     "output_type": "stream",
     "text": [
      "C:\\Users\\kiril\\AppData\\Local\\Temp/ipykernel_7908/2953944529.py:4: FutureWarning: The default value of regex will change from True to False in a future version.\n",
      "  df['words'] = df['words'].str.replace('\\W|\\d', ' ')\n"
     ]
    }
   ],
   "source": [
    "#складываем столбцы с текстом, приводим к нижнему регистру и убираем все специальные знаки и цифры\n",
    "df['words'] = df.title+' '+df.short_description#+' '+df.name_value_characteristics\n",
    "df['words']=df.words.str.lower()\n",
    "df['words'] = df['words'].str.replace('\\W|\\d', ' ')"
   ]
  },
  {
   "cell_type": "code",
   "execution_count": 20,
   "id": "1a3bb697",
   "metadata": {},
   "outputs": [],
   "source": [
    "#чтобы увидеть распределение слов, делаем словарь из всех слов(и их количества)\n",
    "lstlst=df['words'].str.split().tolist()\n",
    "lst = [x for l in lstlst for x in l]\n",
    "from collections import Counter\n",
    "amount=Counter(lst)"
   ]
  },
  {
   "cell_type": "code",
   "execution_count": 21,
   "id": "0c7754a8",
   "metadata": {},
   "outputs": [
    {
     "name": "stdout",
     "output_type": "stream",
     "text": [
      "86863\n"
     ]
    }
   ],
   "source": [
    "onlyone=[]\n",
    "n=0\n",
    "dict(amount)\n",
    "for i in amount:\n",
    "    n+=1\n",
    "    if amount[i]==1:\n",
    "        onlyone.append(i)\n",
    "print(n)"
   ]
  },
  {
   "cell_type": "code",
   "execution_count": 7,
   "id": "24264e7f",
   "metadata": {},
   "outputs": [],
   "source": [
    "def pos(word, morth=pymorphy2.MorphAnalyzer()):\n",
    "    return morth.parse(word)[0].tag.POS\n",
    "\n",
    "functors_pos = {'INTJ', 'PRCL', 'CONJ', 'PREP'}  # function words"
   ]
  },
  {
   "cell_type": "code",
   "execution_count": 8,
   "id": "59f4c6e8",
   "metadata": {},
   "outputs": [],
   "source": [
    "  #1.в словах длиннее 7 символов удаляем последнюю букву(или две),чтобы окончания не влияли на выбор слов алгоритмом\n",
    "  #2.убираем самые используемые слова,не несущие смысловой нагрузки\n",
    "#3.удаляем служебные части речи\n",
    "#4.убираем все слова короче двух букв,так как в них нет смысла\n",
    "  #5.удаляем повторяющиеся слова в одном товаре\n",
    "#nosensewords=['для','это','без','или','виде','при','любой','none']#,'ваш','вашего','отлично','февраля','сыворотка','душа','очень','надписью','век','лет','год','так','что','можно']\n",
    "for index, row in df.iterrows():\n",
    "    new_words=[]\n",
    "    for word in row['words'].split():\n",
    "        '''if len(word)>=7:\n",
    "            new_words.append(word[:-1])'''\n",
    "        '''if word in nosensewords:\n",
    "            continue'''\n",
    "        if pos(word) not in functors_pos:\n",
    "            new_words.append(word)\n",
    "        if len(word)>2:\n",
    "            new_words.append(word)\n",
    "    '''new_words = list(set(new_words))'''\n",
    "    df.at[index,'words']=' '.join(new_words)"
   ]
  },
  {
   "cell_type": "code",
   "execution_count": 9,
   "id": "72938f20",
   "metadata": {},
   "outputs": [
    {
     "name": "stderr",
     "output_type": "stream",
     "text": [
      "C:\\Users\\kiril\\AppData\\Local\\Temp/ipykernel_7908/1966941030.py:4: FutureWarning: The default value of regex will change from True to False in a future version.\n",
      "  df['words'] = df['words'].str.replace('\\W|\\d', ' ')\n"
     ]
    }
   ],
   "source": [
    "#Также добавляем данные, которые были удалены. Что позволяет усилить основные данные и при этом учитывать те,которые стирались\n",
    "df['words'] =df.words+' '+df.title#+' '+df.name_value_characteristics#+' '+df.short_description#\n",
    "df['words']=df.words.str.lower()\n",
    "df['words'] = df['words'].str.replace('\\W|\\d', ' ')"
   ]
  },
  {
   "cell_type": "markdown",
   "id": "b694fdb6",
   "metadata": {},
   "source": [
    "1.среди всех слов используемых в названиях, ~35-40% употребляются по одному разу.\n",
    "если поверхностно их просмотреть, то сразу видно, что в большинстве из них просто ошибки, и если установить какую нибудь бибиотеку, которая будет их исправлять, это позволит значительно повысить эффективность модели\n",
    "2.есть множество слов, которые не несут смысловой нагрузки,и если их убрать,процент значительно повышается. Но проверять их приходится вручную. Самые очевидные были убраны из текста.\n",
    "В будущем это можно автоматизировать, так как каждое такое слово дает 0.02-0.05% к результату"
   ]
  },
  {
   "cell_type": "code",
   "execution_count": 22,
   "id": "1cce2abe",
   "metadata": {},
   "outputs": [
    {
     "data": {
      "text/html": [
       "<div>\n",
       "<style scoped>\n",
       "    .dataframe tbody tr th:only-of-type {\n",
       "        vertical-align: middle;\n",
       "    }\n",
       "\n",
       "    .dataframe tbody tr th {\n",
       "        vertical-align: top;\n",
       "    }\n",
       "\n",
       "    .dataframe thead th {\n",
       "        text-align: right;\n",
       "    }\n",
       "</style>\n",
       "<table border=\"1\" class=\"dataframe\">\n",
       "  <thead>\n",
       "    <tr style=\"text-align: right;\">\n",
       "      <th></th>\n",
       "      <th>id</th>\n",
       "      <th>title</th>\n",
       "      <th>short_description</th>\n",
       "      <th>name_value_characteristics</th>\n",
       "      <th>rating</th>\n",
       "      <th>feedback_quantity</th>\n",
       "      <th>category_id</th>\n",
       "      <th>words</th>\n",
       "    </tr>\n",
       "  </thead>\n",
       "  <tbody>\n",
       "    <tr>\n",
       "      <th>0</th>\n",
       "      <td>1267423</td>\n",
       "      <td>Muhle Manikure Песочные колпачки для педикюра 1015 PW Средний (150 грит) (упаковка 10 шт)</td>\n",
       "      <td>Muhle Manikure Колпачок песочный шлифовальный для педикюра 1015 PW Белый Средний (150 грит) (упаковка 10 шт)</td>\n",
       "      <td>.</td>\n",
       "      <td>0.000000</td>\n",
       "      <td>0</td>\n",
       "      <td>2693</td>\n",
       "      <td>muhle muhle manikure manikure песочные песочные колпачки колпачки для педикюра педикюра pw средний средний грит грит упаковка упаковка шт muhle muhle manikure manikure колпачок колпачок песочный песочный шлифовальный шлифовальный для педикюра педикюра pw белый белый средний средний грит грит упаковка упаковка шт muhle manikure песочные колпачки для педикюра      pw средний      грит   упаковка    шт</td>\n",
       "    </tr>\n",
       "    <tr>\n",
       "      <th>1</th>\n",
       "      <td>128833</td>\n",
       "      <td>Sony Xperia L1 Защитное стекло 2,5D</td>\n",
       "      <td>.</td>\n",
       "      <td>.</td>\n",
       "      <td>4.666667</td>\n",
       "      <td>9</td>\n",
       "      <td>13408</td>\n",
       "      <td>sony sony xperia xperia l защитное защитное стекло стекло d sony xperia l  защитное стекло    d</td>\n",
       "    </tr>\n",
       "    <tr>\n",
       "      <th>2</th>\n",
       "      <td>569924</td>\n",
       "      <td>Конверт для денег Прекрасная роза, 16,5 х 8 см</td>\n",
       "      <td>Конверт для денег «Прекрасная роза», 16,5 × 8 см</td>\n",
       "      <td>.</td>\n",
       "      <td>5.000000</td>\n",
       "      <td>6</td>\n",
       "      <td>11790</td>\n",
       "      <td>конверт конверт для денег денег прекрасная прекрасная роза роза х см конверт конверт для денег денег прекрасная прекрасная роза роза см конверт для денег прекрасная роза       х   см</td>\n",
       "    </tr>\n",
       "    <tr>\n",
       "      <th>3</th>\n",
       "      <td>1264824</td>\n",
       "      <td>Серьги</td>\n",
       "      <td>.</td>\n",
       "      <td>.</td>\n",
       "      <td>0.000000</td>\n",
       "      <td>0</td>\n",
       "      <td>14076</td>\n",
       "      <td>серьги серьги серьги</td>\n",
       "    </tr>\n",
       "    <tr>\n",
       "      <th>4</th>\n",
       "      <td>1339052</td>\n",
       "      <td>Наклейки на унитаз для туалета на крышку бачок на дверь ванную на стену мебель зеркало</td>\n",
       "      <td>Водостойкая, интересная наклейка на унитаз размер 17х22 см</td>\n",
       "      <td>.</td>\n",
       "      <td>0.000000</td>\n",
       "      <td>0</td>\n",
       "      <td>12401</td>\n",
       "      <td>наклейки наклейки унитаз унитаз для туалета туалета крышку крышку бачок бачок дверь дверь ванную ванную стену стену мебель мебель зеркало зеркало водостойкая водостойкая интересная интересная наклейка наклейка унитаз унитаз размер размер х см наклейки на унитаз для туалета на крышку бачок на дверь ванную на стену мебель зеркало</td>\n",
       "    </tr>\n",
       "  </tbody>\n",
       "</table>\n",
       "</div>"
      ],
      "text/plain": [
       "        id  \\\n",
       "0  1267423   \n",
       "1   128833   \n",
       "2   569924   \n",
       "3  1264824   \n",
       "4  1339052   \n",
       "\n",
       "                                                                                       title  \\\n",
       "0  Muhle Manikure Песочные колпачки для педикюра 1015 PW Средний (150 грит) (упаковка 10 шт)   \n",
       "1                                                        Sony Xperia L1 Защитное стекло 2,5D   \n",
       "2                                             Конверт для денег Прекрасная роза, 16,5 х 8 см   \n",
       "3                                                                                     Серьги   \n",
       "4     Наклейки на унитаз для туалета на крышку бачок на дверь ванную на стену мебель зеркало   \n",
       "\n",
       "                                                                                              short_description  \\\n",
       "0  Muhle Manikure Колпачок песочный шлифовальный для педикюра 1015 PW Белый Средний (150 грит) (упаковка 10 шт)   \n",
       "1                                                                                                             .   \n",
       "2                                                              Конверт для денег «Прекрасная роза», 16,5 × 8 см   \n",
       "3                                                                                                             .   \n",
       "4                                                    Водостойкая, интересная наклейка на унитаз размер 17х22 см   \n",
       "\n",
       "  name_value_characteristics    rating  feedback_quantity  category_id  \\\n",
       "0                          .  0.000000                  0         2693   \n",
       "1                          .  4.666667                  9        13408   \n",
       "2                          .  5.000000                  6        11790   \n",
       "3                          .  0.000000                  0        14076   \n",
       "4                          .  0.000000                  0        12401   \n",
       "\n",
       "                                                                                                                                                                                                                                                                                                                                                                                                                 words  \n",
       "0  muhle muhle manikure manikure песочные песочные колпачки колпачки для педикюра педикюра pw средний средний грит грит упаковка упаковка шт muhle muhle manikure manikure колпачок колпачок песочный песочный шлифовальный шлифовальный для педикюра педикюра pw белый белый средний средний грит грит упаковка упаковка шт muhle manikure песочные колпачки для педикюра      pw средний      грит   упаковка    шт   \n",
       "1                                                                                                                                                                                                                                                                                                                      sony sony xperia xperia l защитное защитное стекло стекло d sony xperia l  защитное стекло    d  \n",
       "2                                                                                                                                                                                                                               конверт конверт для денег денег прекрасная прекрасная роза роза х см конверт конверт для денег денег прекрасная прекрасная роза роза см конверт для денег прекрасная роза       х   см  \n",
       "3                                                                                                                                                                                                                                                                                                                                                                                                 серьги серьги серьги  \n",
       "4                                                                            наклейки наклейки унитаз унитаз для туалета туалета крышку крышку бачок бачок дверь дверь ванную ванную стену стену мебель мебель зеркало зеркало водостойкая водостойкая интересная интересная наклейка наклейка унитаз унитаз размер размер х см наклейки на унитаз для туалета на крышку бачок на дверь ванную на стену мебель зеркало  "
      ]
     },
     "execution_count": 22,
     "metadata": {},
     "output_type": "execute_result"
    }
   ],
   "source": [
    "df.head()"
   ]
  },
  {
   "cell_type": "code",
   "execution_count": 24,
   "id": "fe4be522",
   "metadata": {},
   "outputs": [],
   "source": [
    "X_train, X_test, y_train, y_test = train_test_split(df['words'], df['category_id'], test_size=0.2, random_state=1)"
   ]
  },
  {
   "cell_type": "markdown",
   "id": "aa7d876c",
   "metadata": {},
   "source": [
    "Делаем модель"
   ]
  },
  {
   "cell_type": "code",
   "execution_count": 25,
   "id": "368a75bd",
   "metadata": {},
   "outputs": [
    {
     "name": "stdout",
     "output_type": "stream",
     "text": [
      "The Accuracy of Naive Bayes: 78.33518547917659\n"
     ]
    }
   ],
   "source": [
    "vec = CountVectorizer()\n",
    "X_train = vec.fit_transform(X_train)\n",
    "X_test = vec.transform(X_test)\n",
    "# Инициализировать наивную байесовскую модель с конфигурацией по умолчанию\n",
    "mnb = MultinomialNB()\n",
    "# Используем данные обучения для оценки параметров модели и прогнозирования\n",
    "mnb.fit(X_train, y_train)\n",
    "y_predict = mnb.predict(X_test)\n",
    "\n",
    "# Результаты прогнозирования выхода\n",
    "print('The Accuracy of Naive Bayes:', mnb.score(X_test, y_test)*100)"
   ]
  },
  {
   "cell_type": "markdown",
   "id": "adc7cfea",
   "metadata": {},
   "source": [
    "построим еще модель, для классификации"
   ]
  },
  {
   "cell_type": "code",
   "execution_count": null,
   "id": "3781a1a8",
   "metadata": {},
   "outputs": [],
   "source": [
    "features=['rating','feedback_quantity']\n",
    "X=df[features]\n",
    "X_train, X_test, y_train, y_test = train_test_split(X, df['category_id'], test_size=0.2, random_state=1)"
   ]
  },
  {
   "cell_type": "code",
   "execution_count": null,
   "id": "f1bacd21",
   "metadata": {},
   "outputs": [],
   "source": [
    "vec = CountVectorizer()\n",
    "X_train = vec.fit_transform(X_train)\n",
    "X_test = vec.transform(X_test)"
   ]
  },
  {
   "cell_type": "code",
   "execution_count": null,
   "id": "178348a9",
   "metadata": {},
   "outputs": [],
   "source": [
    "classifier = RandomForestClassifier(n_estimators=1000, random_state=0)\n",
    "classifier.fit(X_train, y_train) "
   ]
  },
  {
   "cell_type": "code",
   "execution_count": null,
   "id": "f91a96a7",
   "metadata": {},
   "outputs": [],
   "source": [
    "print('The Accuracy of RandomForest:', classifier.score(X_test, y_test)*100)"
   ]
  },
  {
   "cell_type": "markdown",
   "id": "29995cdd",
   "metadata": {},
   "source": [
    "размечаем тестовые данные"
   ]
  },
  {
   "cell_type": "code",
   "execution_count": 11,
   "id": "4f8fd964",
   "metadata": {},
   "outputs": [
    {
     "name": "stderr",
     "output_type": "stream",
     "text": [
      "C:\\Users\\kiril\\AppData\\Local\\Temp/ipykernel_7908/631749248.py:5: FutureWarning: The default value of regex will change from True to False in a future version.\n",
      "  dftest['words'] = dftest['words'].str.replace('\\W|\\d', ' ')\n"
     ]
    }
   ],
   "source": [
    "dftest.short_description.fillna(value='.', inplace = True)\n",
    "dftest.name_value_characteristics.fillna(value='.', inplace = True)\n",
    "dftest['words'] = dftest.title+' '+dftest.short_description\n",
    "dftest['words'] = dftest.words.str.lower()\n",
    "dftest['words'] = dftest['words'].str.replace('\\W|\\d', ' ')\n",
    "def pos(word, morth=pymorphy2.MorphAnalyzer()):\n",
    "    return morth.parse(word)[0].tag.POS\n",
    "\n",
    "functors_pos = {'INTJ', 'PRCL', 'CONJ', 'PREP'} "
   ]
  },
  {
   "cell_type": "code",
   "execution_count": 12,
   "id": "b750b551",
   "metadata": {},
   "outputs": [
    {
     "name": "stderr",
     "output_type": "stream",
     "text": [
      "C:\\Users\\kiril\\AppData\\Local\\Temp/ipykernel_7908/3293239379.py:11: FutureWarning: The default value of regex will change from True to False in a future version.\n",
      "  dftest['words'] = dftest['words'].str.replace('\\W|\\d', ' ')\n"
     ]
    }
   ],
   "source": [
    "for index, row in dftest.iterrows():\n",
    "    new_words=[]\n",
    "    for word in row['words'].split():\n",
    "        if pos(word) not in functors_pos:\n",
    "            new_words.append(word)\n",
    "        if len(word)>2:\n",
    "            new_words.append(word)\n",
    "    dftest.at[index,'words']=' '.join(new_words)\n",
    "dftest['words'] = dftest.words+' '+dftest.title\n",
    "dftest['words'] = dftest.words.str.lower()\n",
    "dftest['words'] = dftest['words'].str.replace('\\W|\\d', ' ')"
   ]
  },
  {
   "cell_type": "code",
   "execution_count": 13,
   "id": "a0ad7ba4",
   "metadata": {},
   "outputs": [],
   "source": [
    "X_train=df['words']\n",
    "X_test=dftest['words']\n",
    "y_train=df['category_id']\n",
    "vec = CountVectorizer()\n",
    "X_train = vec.fit_transform(X_train)\n",
    "X_test = vec.transform(X_test)\n",
    "mnb = MultinomialNB()\n",
    "mnb.fit(X_train, y_train)\n",
    "y_predict = mnb.predict(X_test)"
   ]
  },
  {
   "cell_type": "code",
   "execution_count": 17,
   "id": "fb832d34",
   "metadata": {},
   "outputs": [],
   "source": [
    "dfresult = pd.DataFrame(data={'id': dftest['id'], 'predicted_category_id': y_predict})\n",
    "dfresult.to_parquet('result.parquet') "
   ]
  },
  {
   "cell_type": "markdown",
   "id": "137796d2",
   "metadata": {},
   "source": [
    "Вывод: Сделал классификацию на основе наивного баессовского классификатора, так как этот классификатор лучше всего работает с текстом.\n",
    "Сложил текстовые данные из столбцов(не считая характеристик), и дальше работал с этим текстом.\n",
    "Удалил все специальные знаки и цифры, удалил все служебные части речи и слова короче двух букв(в основном остались после удаления цифр.\n",
    "Добавил данные в которых все таки есть служебные части речи и слова короче двух букв, чтобы они учитывались, но в меньшей степени, так как остальные слова встречаются несколько раз.\n",
    "На тренировочной выборке(0,2) получили результат 78,3% без учета иерархии.\n",
    "\n",
    "Результат можно улучшить:\n",
    "1.используя другие модели и ансамбль из них\n",
    "2.дальнейшее улучшение данных\n",
    "    а)добавив библиотеку исправляющую орфографические ошибки\n",
    "    б)добавить лемматизацию слов\n",
    "    в)исключение слов не несущих смысловой нагрузки(скидка,бесплатно,новый...)\n",
    "3.учет оставшихся столбцов и работа над улучшением качества в них\n",
    "4.учет фотографий товара\n",
    "5.учет цены товара\n",
    "6.при решении учитывать дерево категорий"
   ]
  }
 ],
 "metadata": {
  "kernelspec": {
   "display_name": "Python 3 (ipykernel)",
   "language": "python",
   "name": "python3"
  },
  "language_info": {
   "codemirror_mode": {
    "name": "ipython",
    "version": 3
   },
   "file_extension": ".py",
   "mimetype": "text/x-python",
   "name": "python",
   "nbconvert_exporter": "python",
   "pygments_lexer": "ipython3",
   "version": "3.9.7"
  }
 },
 "nbformat": 4,
 "nbformat_minor": 5
}
